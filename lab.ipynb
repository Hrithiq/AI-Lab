{
 "cells": [
  {
   "cell_type": "code",
   "execution_count": null,
   "metadata": {
    "vscode": {
     "languageId": "plaintext"
    }
   },
   "outputs": [],
   "source": [
    "import numpy as np\n",
    "\n",
    "class UndirectedGraph:\n",
    "    def __init__(self):\n",
    "        # Adjacency list to store the graph\n",
    "        self.graph = {}\n",
    "\n",
    "    def add_edge(self, u, v):\n",
    "        # Add an edge between u and v\n",
    "        if u not in self.graph:\n",
    "            self.graph[u] = []\n",
    "        if v not in self.graph:\n",
    "            self.graph[v] = []\n",
    "        self.graph[u].append(v)\n",
    "        self.graph[v].append(u)\n",
    "\n",
    "    def print_adjacency_list(self):\n",
    "        # Print adjacency list\n",
    "        adjacency_list = []\n",
    "        for node, neighbors in self.graph.items():\n",
    "            adjacency_list.append(f\"{node}:{neighbors}\")\n",
    "        print(\"Adjacency List:\")\n",
    "        print(adjacency_list)\n",
    "\n",
    "    def print_adjacency_matrix(self):\n",
    "        # Create a mapping from nodes to indices\n",
    "        nodes = sorted(self.graph.keys())\n",
    "        node_to_index = {node: idx for idx, node in enumerate(nodes)}\n",
    "        size = len(nodes)\n",
    "\n",
    "        # Create an adjacency matrix\n",
    "        matrix = np.zeros((size, size))\n",
    "\n",
    "        for node, neighbors in self.graph.items():\n",
    "            for neighbor in neighbors:\n",
    "                i, j = node_to_index[node], node_to_index[neighbor]\n",
    "                matrix[i][j] = 1\n",
    "\n",
    "        print(\"Adjacency Matrix:\")\n",
    "        print(matrix)\n",
    "\n",
    "\n",
    "# Create the undirected graph\n",
    "g = UndirectedGraph()\n",
    "\n",
    "# Add edges based on the given graph structure\n",
    "g.add_edge('A', 'B')\n",
    "g.add_edge('A', 'C')\n",
    "g.add_edge('A', 'E')\n",
    "g.add_edge('B', 'C')\n",
    "g.add_edge('B', 'D')\n",
    "g.add_edge('C', 'D')\n",
    "g.add_edge('C', 'E')\n",
    "\n",
    "# Print adjacency list\n",
    "g.print_adjacency_list()\n",
    "\n",
    "# Print adjacency matrix\n",
    "g.print_adjacency_matrix()\n"
   ]
  },
  {
   "cell_type": "code",
   "execution_count": null,
   "metadata": {
    "vscode": {
     "languageId": "plaintext"
    }
   },
   "outputs": [],
   "source": [
    "class WeightedGraph:\n",
    "    def __init__(self):\n",
    "        # Use a dictionary to store the adjacency list with weights\n",
    "        self.graph = {}\n",
    "\n",
    "    def add_edge(self, src, dest, weight):\n",
    "        # Add an edge from src to dest with a weight\n",
    "        if src not in self.graph:\n",
    "            self.graph[src] = []\n",
    "        self.graph[src].append((dest, weight))\n",
    "\n",
    "    def display_graph(self):\n",
    "        # Display the graph with weights\n",
    "        for node in self.graph:\n",
    "            for neighbor, weight in self.graph[node]:\n",
    "                print(f\"({node} —> {neighbor}, {weight})\")\n",
    "\n",
    "\n",
    "# Create the graph\n",
    "g = WeightedGraph()\n",
    "\n",
    "# Add edges based on the given graph structure\n",
    "g.add_edge(0, 1, 6)\n",
    "g.add_edge(1, 2, 7)\n",
    "g.add_edge(2, 0, 5)\n",
    "g.add_edge(2, 1, 4)\n",
    "g.add_edge(3, 2, 10)\n",
    "g.add_edge(4, 5, 1)\n",
    "g.add_edge(5, 4, 3)\n",
    "\n",
    "# Display the graph\n",
    "g.display_graph()\n"
   ]
  },
  {
   "cell_type": "code",
   "execution_count": null,
   "metadata": {
    "vscode": {
     "languageId": "plaintext"
    }
   },
   "outputs": [],
   "source": []
  },
  {
   "cell_type": "code",
   "execution_count": null,
   "metadata": {
    "vscode": {
     "languageId": "plaintext"
    }
   },
   "outputs": [],
   "source": [
    "class Graph:\n",
    "    def __init__(self):\n",
    "        # Use a dictionary to store the adjacency list\n",
    "        self.graph = {}\n",
    "\n",
    "    def add_edge(self, src, dest):\n",
    "        # Add an edge from src to dest\n",
    "        if src not in self.graph:\n",
    "            self.graph[src] = []\n",
    "        self.graph[src].append(dest)\n",
    "\n",
    "    def display_graph(self):\n",
    "        # Display the graph edges\n",
    "        for node in self.graph:\n",
    "            for neighbor in self.graph[node]:\n",
    "                print(f\"({node} —> {neighbor})\")\n",
    "\n",
    "\n",
    "# Create the graph\n",
    "g = Graph()\n",
    "\n",
    "# Add edges based on the given graph structure\n",
    "g.add_edge(0, 1)\n",
    "g.add_edge(1, 2)\n",
    "g.add_edge(2, 0)\n",
    "g.add_edge(2, 1)\n",
    "g.add_edge(3, 2)\n",
    "g.add_edge(4, 5)\n",
    "g.add_edge(5, 4)\n",
    "\n",
    "# Display the graph\n",
    "g.display_graph()\n"
   ]
  }
 ],
 "metadata": {
  "language_info": {
   "name": "python"
  }
 },
 "nbformat": 4,
 "nbformat_minor": 2
}
